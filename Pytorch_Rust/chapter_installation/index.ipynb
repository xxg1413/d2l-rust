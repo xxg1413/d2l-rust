{
 "cells": [
  {
   "cell_type": "code",
   "execution_count": 2,
   "id": "06c7a2cd",
   "metadata": {},
   "outputs": [],
   "source": [
    "//Pytorch_Rust版本安装"
   ]
  },
  {
   "cell_type": "code",
   "execution_count": null,
   "id": "c421fb99",
   "metadata": {},
   "outputs": [],
   "source": []
  }
 ],
 "metadata": {
  "kernelspec": {
   "display_name": "Rust",
   "language": "rust",
   "name": "rust"
  },
  "language_info": {
   "codemirror_mode": "rust",
   "file_extension": ".rs",
   "mimetype": "text/rust",
   "name": "Rust",
   "pygment_lexer": "rust",
   "version": ""
  }
 },
 "nbformat": 4,
 "nbformat_minor": 5
}
