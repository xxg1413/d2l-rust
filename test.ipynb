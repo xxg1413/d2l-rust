{
 "cells": [
  {
   "cell_type": "code",
   "execution_count": 2,
   "id": "8f89450b",
   "metadata": {},
   "outputs": [],
   "source": [
    "//测试Rust"
   ]
  },
  {
   "cell_type": "code",
   "execution_count": 3,
   "id": "4df43460",
   "metadata": {},
   "outputs": [
    {
     "name": "stdout",
     "output_type": "stream",
     "text": [
      "hello,world!\n"
     ]
    }
   ],
   "source": [
    "println!(\"hello,world!\");"
   ]
  },
  {
   "cell_type": "code",
   "execution_count": null,
   "id": "f5611b2e",
   "metadata": {},
   "outputs": [],
   "source": []
  }
 ],
 "metadata": {
  "kernelspec": {
   "display_name": "Rust",
   "language": "rust",
   "name": "rust"
  },
  "language_info": {
   "codemirror_mode": "rust",
   "file_extension": ".rs",
   "mimetype": "text/rust",
   "name": "Rust",
   "pygment_lexer": "rust",
   "version": ""
  }
 },
 "nbformat": 4,
 "nbformat_minor": 5
}
